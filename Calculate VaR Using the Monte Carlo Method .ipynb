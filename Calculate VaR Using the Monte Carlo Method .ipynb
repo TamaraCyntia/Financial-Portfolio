{
 "cells": [
  {
   "cell_type": "markdown",
   "id": "1c66117f",
   "metadata": {},
   "source": [
    "# Calculate Value at Risk (VaR) Using the Monte Carlo Method"
   ]
  },
  {
   "cell_type": "markdown",
   "id": "1ace134d",
   "metadata": {},
   "source": [
    "The project aims to develop a Python program for calculating the Value at Risk (VaR) using the Monte Carlo Method. Value at Risk is a widely used risk measure in finance, providing an estimate of the maximum potential loss on an investment over a specified time horizon, at a certain level of confidence.\n",
    "\n",
    "The Monte Carlo Method is a powerful computational technique used to simulate a wide range of scenarios by generating random samples from probability distributions. In this project, we will leverage Monte Carlo simulations to estimate the potential losses in a portfolio or investment under different market conditions.\n",
    "\n",
    "The project will involve several key steps:\n",
    "1. Data Collection: Obtain historical data relevant to the portfolio or investment being analyzed. This may include asset prices, returns, and other relevant financial data.\n",
    "2. Model Specification: Define the financial model and assumptions underlying the Monte Carlo simulation. This involves selecting appropriate probability distributions for asset returns and specifying correlations between assets.\n",
    "3. Monte Carlo Simulation: Implement the Monte Carlo Method in Python to simulate thousands or millions of possible future scenarios for the portfolio. This involves generating random samples from the specified probability distributions and calculating portfolio values for each scenario.\n",
    "4. VaR Calculation: Analyze the simulated portfolio values to estimate the Value at Risk at a specified confidence level (e.g., 95%, 99%). VaR represents the potential loss that could be exceeded with a given probability over the specified time horizon.\n",
    "5. Results Visualization: Visualize the results of the VaR calculation using appropriate charts and graphs. This helps stakeholders better understand the risk profile of the portfolio and make informed decisions.\n",
    "\n",
    "By completing this project, participants will gain a deeper understanding of Value at Risk (VaR) and Monte Carlo simulations in finance, as well as proficiency in implementing these concepts using Python programming. This project can be valuable for students, finance professionals, and anyone interested in risk management and quantitative finance."
   ]
  },
  {
   "cell_type": "markdown",
   "id": "7999db09",
   "metadata": {},
   "source": [
    "Let's begin by importing the necessary libraries:"
   ]
  },
  {
   "cell_type": "code",
   "execution_count": 1,
   "id": "cdfe8001",
   "metadata": {},
   "outputs": [],
   "source": [
    "import numpy as np\n",
    "import pandas as pd\n",
    "import datetime as dt\n",
    "import yfinance as yf\n",
    "import matplotlib.pyplot as plt\n",
    "from scipy.stats import norm"
   ]
  },
  {
   "cell_type": "markdown",
   "id": "a7b0a4ed",
   "metadata": {},
   "source": [
    "In this section, we set the time range for our historical data to 10 years and create a list of stock tickers for our portfolio."
   ]
  },
  {
   "cell_type": "code",
   "execution_count": 17,
   "id": "ad1b9968",
   "metadata": {},
   "outputs": [],
   "source": [
    "# Set time from to a certain number of years\n",
    "years = 10\n",
    "\n",
    "endDate = dt.datetime.now()\n",
    "startDate = endDate - dt.timedelta(days = 365*years)\n",
    "\n",
    "# Create a list of tickers\n",
    "tickers = ['LPPF.JK','EXCL.JK','JPFA.JK','MYOR.JK','DMAS.JK']"
   ]
  },
  {
   "cell_type": "markdown",
   "id": "4e8865e1",
   "metadata": {},
   "source": [
    "Next, download the daily adjusted close prices for each stock ticker using the yfinance library and store the data in a DataFrame."
   ]
  },
  {
   "cell_type": "code",
   "execution_count": 18,
   "id": "f256bfdd",
   "metadata": {},
   "outputs": [
    {
     "name": "stdout",
     "output_type": "stream",
     "text": [
      "[*********************100%***********************]  1 of 1 completed\n",
      "[*********************100%***********************]  1 of 1 completed\n",
      "[*********************100%***********************]  1 of 1 completed\n",
      "[*********************100%***********************]  1 of 1 completed\n",
      "[*********************100%***********************]  1 of 1 completed\n",
      "                LPPF.JK      EXCL.JK      JPFA.JK      MYOR.JK  DMAS.JK\n",
      "Date                                                                   \n",
      "2014-02-25  9138.896484  3998.351318  1262.898560  1093.562134      NaN\n",
      "2014-02-26  9189.387695  3957.178223  1224.512939  1082.841187      NaN\n",
      "2014-02-27  9357.690430  3998.351318  1224.512939  1082.841187      NaN\n",
      "2014-02-28  9425.011719  4254.539062  1224.512939  1075.693481      NaN\n",
      "2014-03-03  8819.120117  4103.570801  1212.996948  1075.693481      NaN\n",
      "...                 ...          ...          ...          ...      ...\n",
      "2024-02-19  1955.000000  2200.000000  1080.000000  2260.000000    162.0\n",
      "2024-02-20  1890.000000  2210.000000  1090.000000  2290.000000    161.0\n",
      "2024-02-21  1875.000000  2230.000000  1085.000000  2330.000000    161.0\n",
      "2024-02-22  1905.000000  2310.000000  1100.000000  2370.000000    161.0\n",
      "2024-02-23  1895.000000  2270.000000  1100.000000  2390.000000    162.0\n",
      "\n",
      "[2481 rows x 5 columns]\n"
     ]
    }
   ],
   "source": [
    "# Download the daily adjusted close prices for the tickers\n",
    "adj_close_df = pd.DataFrame()\n",
    "\n",
    "for ticker in tickers:\n",
    "    data = yf.download(ticker, start = startDate, end = endDate)\n",
    "    adj_close_df[ticker] = data['Adj Close']\n",
    "\n",
    "print(adj_close_df)"
   ]
  },
  {
   "cell_type": "markdown",
   "id": "214b5ec6",
   "metadata": {},
   "source": [
    "# Calculating Daily Log Return"
   ]
  },
  {
   "cell_type": "code",
   "execution_count": 7,
   "id": "824e3222",
   "metadata": {},
   "outputs": [
    {
     "name": "stdout",
     "output_type": "stream",
     "text": [
      "             LPPF.JK   EXCL.JK   JPFA.JK   MYOR.JK   DMAS.JK\n",
      "Date                                                        \n",
      "2015-06-01 -0.007189  0.036617 -0.022306  0.038466  0.004556\n",
      "2015-06-03  0.002882 -0.016998 -0.007548 -0.019048  0.013544\n",
      "2015-06-04 -0.001440  0.011364  0.000000 -0.026304 -0.013544\n",
      "2015-06-05  0.008608 -0.006803  0.000000  0.026304  0.000000\n",
      "2015-06-08 -0.052688 -0.099186 -0.054488 -0.001925 -0.018349\n",
      "...              ...       ...       ...       ...       ...\n",
      "2024-02-19 -0.007643 -0.031322  0.000000 -0.043297  0.006192\n",
      "2024-02-20 -0.033813  0.004535  0.009217  0.013187 -0.006192\n",
      "2024-02-21 -0.007968  0.009009 -0.004598  0.017316  0.000000\n",
      "2024-02-22  0.015873  0.035246  0.013730  0.017022  0.000000\n",
      "2024-02-23 -0.005263 -0.017468  0.000000  0.008403  0.006192\n",
      "\n",
      "[2159 rows x 5 columns]\n"
     ]
    }
   ],
   "source": [
    "# Calculate the daily log returns and drop any NAs\n",
    "log_returns = np.log(adj_close_df/adj_close_df.shift(1))\n",
    "log_returns  = log_returns.dropna()\n",
    "\n",
    "print(log_returns)"
   ]
  },
  {
   "cell_type": "markdown",
   "id": "0eb4d3f8",
   "metadata": {},
   "source": [
    "Calculate the daily log returns for each stock in the portfolio and drop any missing values."
   ]
  },
  {
   "cell_type": "code",
   "execution_count": 19,
   "id": "aac61968",
   "metadata": {},
   "outputs": [],
   "source": [
    "# Create a function that will be used to calculate portfolio expected return\n",
    "def expected_return(weights, log_returns):\n",
    "    return np.sum(log_returns.mean()*weights)\n",
    "\n",
    "### Create a function that will be used to calculate portfolio standard deviation\n",
    "def standard_deviation (weights, cov_matrix):\n",
    "    variance = weights.T @ cov_matrix @ weights\n",
    "    return np.sqrt(variance)"
   ]
  },
  {
   "cell_type": "markdown",
   "id": "c0c42441",
   "metadata": {},
   "source": [
    "Defining Functions to Calculate Portfolio Expected Return and Standard Deviation"
   ]
  },
  {
   "cell_type": "code",
   "execution_count": 20,
   "id": "baba67be",
   "metadata": {},
   "outputs": [
    {
     "name": "stdout",
     "output_type": "stream",
     "text": [
      "          LPPF.JK   EXCL.JK   JPFA.JK   MYOR.JK   DMAS.JK\n",
      "LPPF.JK  0.001160  0.000160  0.000124  0.000097  0.000122\n",
      "EXCL.JK  0.000160  0.000788  0.000173  0.000088  0.000131\n",
      "JPFA.JK  0.000124  0.000173  0.000830  0.000089  0.000145\n",
      "MYOR.JK  0.000097  0.000088  0.000089  0.000418  0.000056\n",
      "DMAS.JK  0.000122  0.000131  0.000145  0.000056  0.000525\n"
     ]
    }
   ],
   "source": [
    "### Create a covariance matrix for all the securities\n",
    "cov_matrix = log_returns.cov()\n",
    "print(cov_matrix)"
   ]
  },
  {
   "cell_type": "code",
   "execution_count": 21,
   "id": "2935600d",
   "metadata": {},
   "outputs": [
    {
     "name": "stdout",
     "output_type": "stream",
     "text": [
      "          LPPF.JK   EXCL.JK   JPFA.JK   MYOR.JK   DMAS.JK\n",
      "LPPF.JK  0.001160  0.000160  0.000124  0.000097  0.000122\n",
      "EXCL.JK  0.000160  0.000788  0.000173  0.000088  0.000131\n",
      "JPFA.JK  0.000124  0.000173  0.000830  0.000089  0.000145\n",
      "MYOR.JK  0.000097  0.000088  0.000089  0.000418  0.000056\n",
      "DMAS.JK  0.000122  0.000131  0.000145  0.000056  0.000525\n"
     ]
    }
   ],
   "source": [
    "### Create a covariance matrix for all the securities\n",
    "cov_matrix = log_returns.cov()\n",
    "print(cov_matrix)"
   ]
  },
  {
   "cell_type": "markdown",
   "id": "bc19cc0b",
   "metadata": {},
   "source": [
    "# Defining Functions to Calculate Portfolio Expected Return and Standard Deviation"
   ]
  },
  {
   "cell_type": "code",
   "execution_count": 22,
   "id": "c50f6019",
   "metadata": {},
   "outputs": [],
   "source": [
    "# Create an equally weighted portfolio and find total portfolio expected return and standard deviation\n",
    "portfolio_value = 1000000\n",
    "weights = np.array([1/len(tickers)]*len(tickers))\n",
    "portfolio_expected_return = expected_return(weights, log_returns)\n",
    "portfolio_std_dev = standard_deviation (weights, cov_matrix)"
   ]
  },
  {
   "cell_type": "markdown",
   "id": "45793567",
   "metadata": {},
   "source": [
    "Define two functions, **_expected_return()_** and **_standard_deviation()_**, which will be used to calculate the expected return and standard deviation of our portfolio, respectively."
   ]
  },
  {
   "cell_type": "markdown",
   "id": "488f4fa1",
   "metadata": {},
   "source": [
    "# Creating a Covariance Matrix"
   ]
  },
  {
   "cell_type": "code",
   "execution_count": 27,
   "id": "76e2b7d8",
   "metadata": {},
   "outputs": [
    {
     "name": "stdout",
     "output_type": "stream",
     "text": [
      "          LPPF.JK   EXCL.JK   JPFA.JK   MYOR.JK   DMAS.JK\n",
      "LPPF.JK  0.001160  0.000160  0.000124  0.000097  0.000122\n",
      "EXCL.JK  0.000160  0.000788  0.000173  0.000088  0.000131\n",
      "JPFA.JK  0.000124  0.000173  0.000830  0.000089  0.000145\n",
      "MYOR.JK  0.000097  0.000088  0.000089  0.000418  0.000056\n",
      "DMAS.JK  0.000122  0.000131  0.000145  0.000056  0.000525\n"
     ]
    }
   ],
   "source": [
    "# Create a covariance matrix for all the securities\n",
    "cov_matrix = log_returns.cov()\n",
    "print(cov_matrix)"
   ]
  },
  {
   "cell_type": "markdown",
   "id": "8b3df4ea",
   "metadata": {},
   "source": [
    "Create a covariance matrix for all the securities in our portfolio using the daily log returns."
   ]
  },
  {
   "cell_type": "code",
   "execution_count": 28,
   "id": "f212e895",
   "metadata": {},
   "outputs": [],
   "source": [
    "# Create an equally weighted portfolio and find total portfolio expected return and standard deviation\n",
    "portfolio_value = 1000000\n",
    "weights = np.array([1/len(tickers)]*len(tickers))\n",
    "portfolio_expected_return = expected_return(weights, log_returns)\n",
    "portfolio_std_dev = standard_deviation (weights, cov_matrix)"
   ]
  },
  {
   "cell_type": "markdown",
   "id": "bdfc96d3",
   "metadata": {},
   "source": [
    "Create an equally weighted portfolio and calculate the portfolio’s expected return and standard deviation using the functions defined earlier."
   ]
  },
  {
   "cell_type": "markdown",
   "id": "06835452",
   "metadata": {},
   "source": [
    "# Defining Functions for Monte Carlo Simulation"
   ]
  },
  {
   "cell_type": "code",
   "execution_count": 29,
   "id": "bc634ca9",
   "metadata": {},
   "outputs": [],
   "source": [
    "def random_z_score():\n",
    "    return np.random.normal(0, 1)\n",
    "\n",
    "### Create a function to calculate scenarioGainLoss\n",
    "days = 30\n",
    "\n",
    "def scenario_gain_loss(portfolio_value, portfolio_std_dev, z_score, days):\n",
    "    return portfolio_value * portfolio_expected_return * days + portfolio_value * portfolio_std_dev * z_score * np.sqrt(days)"
   ]
  },
  {
   "cell_type": "markdown",
   "id": "f8edac60",
   "metadata": {},
   "source": [
    "random_z_score() and scenario_gain_loss(). The first function generates a random Z-score based on a normal distribution, and the second function calculates the gain or loss for a given scenario."
   ]
  },
  {
   "cell_type": "code",
   "execution_count": 33,
   "id": "8c908b79",
   "metadata": {},
   "outputs": [],
   "source": [
    "### Run 10000000 simulations\n",
    "simulations = 10000000\n",
    "scenarioReturn = []\n",
    "\n",
    "for i in range(simulations):\n",
    "    z_score = random_z_score()\n",
    "    scenarioReturn.append(scenario_gain_loss(portfolio_value, portfolio_std_dev, z_score, days))"
   ]
  },
  {
   "cell_type": "markdown",
   "id": "9647ccd0",
   "metadata": {},
   "source": [
    "# Calculating Value at Risk"
   ]
  },
  {
   "cell_type": "code",
   "execution_count": 34,
   "id": "adcf1d24",
   "metadata": {},
   "outputs": [
    {
     "name": "stdout",
     "output_type": "stream",
     "text": [
      "264544.2587210891\n"
     ]
    }
   ],
   "source": [
    "# Specify a confidence interval and calculate the Value at Risk (VaR)\n",
    "confidence_interval = 0.999\n",
    "VaR = -np.percentile(scenarioReturn, 100 * (1 - confidence_interval))\n",
    "print(VaR)"
   ]
  },
  {
   "cell_type": "markdown",
   "id": "3f7fe2f6",
   "metadata": {},
   "source": [
    "Let's specify a confidence interval of 99,9% and calculate Value at Risk (VaR) using the results of our simulations."
   ]
  },
  {
   "cell_type": "markdown",
   "id": "b247b864",
   "metadata": {},
   "source": [
    "# Plotting the Results"
   ]
  },
  {
   "cell_type": "code",
   "execution_count": 35,
   "id": "a4ba1652",
   "metadata": {
    "scrolled": true
   },
   "outputs": [
    {
     "data": {
      "image/png": "[encoded data removed]",
      "text/plain": [
       "<Figure size 640x480 with 1 Axes>"
      ]
     },
     "metadata": {},
     "output_type": "display_data"
    }
   ],
   "source": [
    "# Plot the results of all 10000 scenarios\n",
    "plt.hist(scenarioReturn, bins=50, density=True)\n",
    "plt.xlabel('Scenario Gain/Loss ($)')\n",
    "plt.ylabel('Frequency')\n",
    "plt.title(f'Distribution of Portfolio Gain/Loss Over {days} Days')\n",
    "plt.axvline(-VaR, color='r', linestyle='dashed', linewidth=2, label=f'VaR at {confidence_interval:.0%} confidence level')\n",
    "plt.legend()\n",
    "plt.show()"
   ]
  },
  {
   "cell_type": "markdown",
   "id": "c0cef1e4",
   "metadata": {},
   "source": [
    "Finally, we create a histogram to visualize the distribution of portfolio gain/loss over the specified number of days. We also add a vertical dashed line to indicate the VaR at our chosen confidence level."
   ]
  }
 ],
 "metadata": {
  "kernelspec": {
   "display_name": "Python 3 (ipykernel)",
   "language": "python",
   "name": "python3"
  },
  "language_info": {
   "codemirror_mode": {
    "name": "ipython",
    "version": 3
   },
   "file_extension": ".py",
   "mimetype": "text/x-python",
   "name": "python",
   "nbconvert_exporter": "python",
   "pygments_lexer": "ipython3",
   "version": "3.9.13"
  }
 },
 "nbformat": 4,
 "nbformat_minor": 5
}
